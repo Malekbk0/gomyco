{
 "cells": [
  {
   "cell_type": "code",
   "execution_count": 5,
   "metadata": {},
   "outputs": [
    {
     "name": "stdout",
     "output_type": "stream",
     "text": [
      "Original array: \n",
      "array('b', [1, 2, 3, 4])\n",
      "Array to list: \n",
      "[1, 2, 3, 4]\n"
     ]
    }
   ],
   "source": [
    "#1\n",
    "from array import array\n",
    "arra1 = array('b', [1,2,3,4])\n",
    "print(\"Original array: \")\n",
    "print(arra1)\n",
    "print(\"Array to list: \")\n",
    "print(arra1.tolist())"
   ]
  },
  {
   "cell_type": "code",
   "execution_count": 6,
   "metadata": {},
   "outputs": [
    {
     "name": "stdout",
     "output_type": "stream",
     "text": [
      "Original matrix:\n",
      "[[0 1 2]\n",
      " [3 4 5]]\n",
      "Condition number of the said matrix:\n",
      "4\n"
     ]
    }
   ],
   "source": [
    "#2\n",
    "import numpy as np\n",
    "m = np.arange(6).reshape(2,3)\n",
    "print(\"Original matrix:\")\n",
    "print(m)\n",
    "result =  np.trace(m)\n",
    "print(\"Condition number of the said matrix:\")\n",
    "print(result)"
   ]
  },
  {
   "cell_type": "code",
   "execution_count": 7,
   "metadata": {},
   "outputs": [
    {
     "name": "stdout",
     "output_type": "stream",
     "text": [
      "Original matrix:\n",
      "\n",
      "[[0.38957629 0.19630528 0.51425512 0.80254865 0.5216414  0.08045084\n",
      "  0.04524623 0.11003165 0.15389229 0.22044268]\n",
      " [0.59306431 0.71192804 0.30237807 0.91759153 0.00669793 0.53416229\n",
      "  0.38084932 0.10073015 0.79667085 0.45135014]\n",
      " [0.36160439 0.92827277 0.24483089 0.68582027 0.16217842 0.11153945\n",
      "  0.96837148 0.22972459 0.75495143 0.97743797]\n",
      " [0.54038628 0.1581384  0.90284047 0.07453316 0.62091883 0.05013176\n",
      "  0.22480808 0.40904247 0.3139035  0.55169094]\n",
      " [0.52349038 0.47708273 0.50299815 0.76304551 0.14168846 0.83472684\n",
      "  0.51388338 0.73905997 0.43203144 0.878527  ]]\n",
      "\n",
      "Subtract the mean of each row of the said matrix:\n",
      "\n",
      "[[ 0.08613725 -0.10713377  0.21081607  0.49910961  0.21820236 -0.2229882\n",
      "  -0.25819281 -0.19340739 -0.14954675 -0.08299636]\n",
      " [ 0.11352204  0.23238577 -0.17716419  0.43804927 -0.47284433  0.05462003\n",
      "  -0.09869294 -0.37881212  0.31712859 -0.02819212]\n",
      " [-0.18086878  0.38579961 -0.29764227  0.14334711 -0.38029475 -0.43093372\n",
      "   0.42589832 -0.31274858  0.21247826  0.4349648 ]\n",
      " [ 0.15574689 -0.22650099  0.51820108 -0.31010623  0.23627944 -0.33450763\n",
      "  -0.15983131  0.02440308 -0.07073589  0.16705155]\n",
      " [-0.05716301 -0.10357065 -0.07765524  0.18239212 -0.43896492  0.25407345\n",
      "  -0.06677     0.15840659 -0.14862194  0.29787361]]\n"
     ]
    }
   ],
   "source": [
    "#3\n",
    "import numpy as np\n",
    "print(\"Original matrix:\\n\")\n",
    "X = np.random.rand(5, 10)\n",
    "print(X)\n",
    "print(\"\\nSubtract the mean of each row of the said matrix:\\n\")\n",
    "Y = X - X.mean(axis=1, keepdims=True)\n",
    "print(Y)"
   ]
  },
  {
   "cell_type": "code",
   "execution_count": null,
   "metadata": {},
   "outputs": [],
   "source": []
  }
 ],
 "metadata": {
  "kernelspec": {
   "display_name": "Python 3",
   "language": "python",
   "name": "python3"
  },
  "language_info": {
   "codemirror_mode": {
    "name": "ipython",
    "version": 3
   },
   "file_extension": ".py",
   "mimetype": "text/x-python",
   "name": "python",
   "nbconvert_exporter": "python",
   "pygments_lexer": "ipython3",
   "version": "3.8.3"
  }
 },
 "nbformat": 4,
 "nbformat_minor": 4
}
