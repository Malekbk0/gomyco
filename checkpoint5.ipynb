{
 "cells": [
  {
   "cell_type": "code",
   "execution_count": 4,
   "metadata": {},
   "outputs": [
    {
     "name": "stdin",
     "output_type": "stream",
     "text": [
      "entrez un nombre:  12\n",
      "entrez un nombre:  14\n",
      "entrez un nombre:  900\n"
     ]
    },
    {
     "name": "stdout",
     "output_type": "stream",
     "text": [
      "The largest number is 900.0\n"
     ]
    }
   ],
   "source": [
    "#1\n",
    "num1 = float(input(\"entrez un nombre: \"))\n",
    "num2 = float(input(\"entrez un nombre: \"))\n",
    "num3 = float(input(\"entrez un nombre: \"))\n",
    " \n",
    "if (num1 > num2) and (num1 > num3):\n",
    "   largest = num1\n",
    "elif (num2 > num1) and (num2 > num3):\n",
    "   largest = num2\n",
    "else:\n",
    "   largest = num3\n",
    " \n",
    "print(\"The largest number is\",largest)\n",
    "\n"
   ]
  },
  {
   "cell_type": "code",
   "execution_count": 9,
   "metadata": {},
   "outputs": [
    {
     "name": "stdout",
     "output_type": "stream",
     "text": [
      "le total des nombres de cette liste:  15\n"
     ]
    }
   ],
   "source": [
    "#2\n",
    "total = 0\n",
    "list1 = [1, 2, 3, 4, 5]\n",
    "for ele in range(0, len(list1)): \n",
    "    total = total + list1[ele]\n",
    "\n",
    "print(\"le total des nombres de cette liste: \", total) "
   ]
  },
  {
   "cell_type": "code",
   "execution_count": 10,
   "metadata": {},
   "outputs": [
    {
     "name": "stdout",
     "output_type": "stream",
     "text": [
      "le total des nombres de cette liste:  0\n"
     ]
    }
   ],
   "source": [
    "total = 0\n",
    "list1 = [1, 2, 3, 4, 5]\n",
    "for ele in range(0, len(list1)): \n",
    "    total = total * list1[ele]\n",
    "\n",
    "print(\"le total des nombres de cette liste: \", total) "
   ]
  },
  {
   "cell_type": "code",
   "execution_count": 11,
   "metadata": {},
   "outputs": [
    {
     "name": "stdout",
     "output_type": "stream",
     "text": [
      "120\n"
     ]
    }
   ],
   "source": [
    "#3\n",
    "def multiplyList(myList) : \n",
    "      \n",
    "    result = 1\n",
    "    for x in myList: \n",
    "         result = result * x  \n",
    "    return result  \n",
    "       \n",
    "list1 = [1, 2, 3, 4, 5]\n",
    "print(multiplyList(list1))\n"
   ]
  },
  {
   "cell_type": "markdown",
   "metadata": {},
   "source": []
  },
  {
   "cell_type": "markdown",
   "metadata": {},
   "source": []
  }
 ],
 "metadata": {
  "kernelspec": {
   "display_name": "Python 3",
   "language": "python",
   "name": "python3"
  },
  "language_info": {
   "codemirror_mode": {
    "name": "ipython",
    "version": 3
   },
   "file_extension": ".py",
   "mimetype": "text/x-python",
   "name": "python",
   "nbconvert_exporter": "python",
   "pygments_lexer": "ipython3",
   "version": "3.8.3"
  }
 },
 "nbformat": 4,
 "nbformat_minor": 4
}
